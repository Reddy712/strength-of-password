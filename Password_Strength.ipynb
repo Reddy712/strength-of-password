{
  "nbformat": 4,
  "nbformat_minor": 0,
  "metadata": {
    "colab": {
      "name": "Password Strength.ipynb",
      "provenance": [],
      "authorship_tag": "ABX9TyPw8pbaYnOUIrlp/rmx5WyC",
      "include_colab_link": true
    },
    "kernelspec": {
      "name": "python3",
      "display_name": "Python 3"
    },
    "language_info": {
      "name": "python"
    }
  },
  "cells": [
    {
      "cell_type": "markdown",
      "metadata": {
        "id": "view-in-github",
        "colab_type": "text"
      },
      "source": [
        "<a href=\"https://colab.research.google.com/github/Reddy712/strength-of-password/blob/main/Password_Strength.ipynb\" target=\"_parent\"><img src=\"https://colab.research.google.com/assets/colab-badge.svg\" alt=\"Open In Colab\"/></a>"
      ]
    },
    {
      "cell_type": "code",
      "metadata": {
        "id": "v_DM4f7s-Sn8"
      },
      "source": [
        "# TO classify a password according to its strength "
      ],
      "execution_count": 1,
      "outputs": []
    },
    {
      "cell_type": "code",
      "metadata": {
        "id": "fUBYOKQY-4GC"
      },
      "source": [
        "# Initially, a password must have 8 characters or more.\n",
        "# And also to have a strong password we must have a digit,a lowercase,\n",
        "# an uppercase and a special character or else it will be considered as weak."
      ],
      "execution_count": null,
      "outputs": []
    },
    {
      "cell_type": "code",
      "metadata": {
        "id": "Ba-7u--r_znV"
      },
      "source": [
        "# Regular expression for a strong password is\n",
        "((?=.*\\d)(?=.*[a-z])(?=.*[A-Z])(?=.*[!@#$%^&*]).{6,20})\n"
      ],
      "execution_count": null,
      "outputs": []
    },
    {
      "cell_type": "code",
      "metadata": {
        "id": "RdROtcwRBGnd"
      },
      "source": [
        "# \"(?=.*\\d)\" says that it must contain one digit similary \n",
        "# we say that for lowercase,uppercase and special characters.\n",
        "# Here,\"{8,30}\" tells that its length is at least 8 characters and maximum\n",
        "# of 30 characters."
      ],
      "execution_count": null,
      "outputs": []
    },
    {
      "cell_type": "code",
      "metadata": {
        "id": "cixtjyWjBvPP"
      },
      "source": [
        "# Regular expression for weak password\n",
        "((\\d*)([a-z]*)([A-Z]*)([!@#$%^&*]*).{6,20})"
      ],
      "execution_count": null,
      "outputs": []
    },
    {
      "cell_type": "code",
      "metadata": {
        "id": "RSKouoemB7u9"
      },
      "source": [
        "# Here * indicates zero or more than that"
      ],
      "execution_count": null,
      "outputs": []
    },
    {
      "cell_type": "code",
      "metadata": {
        "id": "n1vZVwH-CIuw"
      },
      "source": [
        "# To use regular expressions we need to import re."
      ],
      "execution_count": null,
      "outputs": []
    },
    {
      "cell_type": "code",
      "metadata": {
        "colab": {
          "base_uri": "https://localhost:8080/"
        },
        "id": "PLCZGlx6CP4x",
        "outputId": "a3bf7187-5467-4da3-f689-e08b9acd6ab2"
      },
      "source": [
        "import re\n",
        "v=input(\"Enter the password:\")\n",
        "if(len(v)>=8):\n",
        "    if(bool(re.match('((?=.*\\d)(?=.*[a-z])(?=.*[A-Z])(?=.*[!@#$%^&*]).{8,30})',v))==True):\n",
        "        print(\"The password is strong\")\n",
        "    elif(bool(re.match('((\\d*)([a-z]*)([A-Z]*)([!@#$%^&*]*).{8,30})',v))==True):\n",
        "        print(\"The password is weak\")\n",
        "else:\n",
        "    print(\"You have entered an invalid password.\")"
      ],
      "execution_count": 4,
      "outputs": [
        {
          "output_type": "stream",
          "name": "stdout",
          "text": [
            "Enter the password:mango@16Mv\n",
            "The password is strong\n"
          ]
        }
      ]
    },
    {
      "cell_type": "code",
      "metadata": {
        "id": "07NC_SRqCYvb"
      },
      "source": [
        "# In this code I have used the python len() to know the length of the \n",
        "# entered string(input given by the user).\n",
        "# If the length of the string is more than 8 characters then and only\n",
        "# it is considered as a valid string"
      ],
      "execution_count": null,
      "outputs": []
    },
    {
      "cell_type": "code",
      "metadata": {
        "id": "Iwhz_yC7DQrz"
      },
      "source": [
        "# the re.match() function is allowed to return a Boolean value because we are\n",
        " #saying the re.match() to return Boolean by putting it in bool.\n",
        "#Generally, the re.match() function returns a match object on success and None on failure."
      ],
      "execution_count": null,
      "outputs": []
    },
    {
      "cell_type": "code",
      "metadata": {
        "id": "pgl2G2xXDtNd"
      },
      "source": [
        "bool(re.match('((?=.*\\d)(?=.*[a-z])(?=.*[A-Z])(?=.*[!@#$%^&*]).{6,20})',v)\n",
        "bool(re.match('((\\d*)([a-z]*)([A-Z]*)([!@#$%^&*]*).{6,20})',v)\n",
        "# returns a boolean value."
      ],
      "execution_count": null,
      "outputs": []
    },
    {
      "cell_type": "code",
      "metadata": {
        "id": "QxHWFDJ9DzO-"
      },
      "source": [
        "# The output for all the three cases is :\n",
        "Enter the password:crazy\n",
        "You have entered an invalid password.\n",
        "\n",
        "Enter the password:kimrick@32$\n",
        "The password is weak\n",
        "\n",
        "Enter the password:Blade@jimMan12\n",
        "The password is strong"
      ],
      "execution_count": null,
      "outputs": []
    }
  ]
}